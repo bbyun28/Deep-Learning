{
 "cells": [
  {
   "cell_type": "markdown",
   "metadata": {},
   "source": [
    "## 1. Introduction\n",
    "\n",
    "In this codelab you'll learn the basic \"Hello World\" of machine learning where, instead of programming explicit rules in a language such as Java or C++, you'll build a system that is trained on data to infer the rules that determine a relationship between numbers.\n",
    "\n",
    "Consider the following problem: \n",
    "\n",
    "You're building a system that performs `activity recognition` of Human for `fitness tracking`. You might have access to the speed at which a person is moving, and attempt to infer their activity based on this speed using a conditional:\n",
    "\n",
    "<img align=\"middle\" src=\"image/walking.png\"/>"
   ]
  },
  {
   "cell_type": "markdown",
   "metadata": {},
   "source": [
    "* Input : Speed is Your input\n",
    "* output : Status(Walking,Rrunning,Playing)"
   ]
  },
  {
   "cell_type": "raw",
   "metadata": {},
   "source": [
    "if(speed<4){\n",
    "  status=WALKING;\n",
    "}"
   ]
  },
  {
   "cell_type": "markdown",
   "metadata": {},
   "source": [
    "You could extend this to running with another condition:\n",
    "\n",
    "<img align=\"middle\" src=\"image/Running.png\"/>"
   ]
  },
  {
   "cell_type": "raw",
   "metadata": {},
   "source": [
    "if(speed<4){\n",
    "    status=WALKING;\n",
    "} else {\n",
    "    status=RUNNING;\n",
    "}"
   ]
  },
  {
   "cell_type": "markdown",
   "metadata": {},
   "source": [
    "In a final condition you could similarly detect cycling:\n",
    "\n",
    "<img align=\"middle\" src=\"image/Cycleing.png\"/>"
   ]
  },
  {
   "cell_type": "raw",
   "metadata": {},
   "source": [
    "if(speed<4){\n",
    "    status=WALKING;\n",
    "} else if(speed<12){\n",
    "    status=RUNNING;\n",
    "} else {\n",
    "    status=BIKING;\n",
    "}"
   ]
  },
  {
   "cell_type": "markdown",
   "metadata": {},
   "source": [
    "Now consider what happens when you want to include an activity like golf? Suddenly it's less obvious how to create a rule to determine the activity.\n",
    "\n",
    "<img align=\"middle\" src=\"image/glof.png\"/>"
   ]
  },
  {
   "cell_type": "raw",
   "metadata": {},
   "source": [
    "// Now what?"
   ]
  },
  {
   "cell_type": "markdown",
   "metadata": {},
   "source": [
    "It's extremely difficult to write a program (expressed in code) that will give us the golfing activity. So what do you do? That's where machine learning can be used to solve the problem!"
   ]
  },
  {
   "cell_type": "markdown",
   "metadata": {},
   "source": [
    "### 2. What is machine learning?"
   ]
  },
  {
   "cell_type": "markdown",
   "metadata": {},
   "source": [
    "In the previous section you saw a problem where, when trying to determine the fitness activity of a user, you hit limitations in what you could write code to achieve.\n",
    "\n",
    "Consider building applications in the traditional manner as represented in the following diagram:\n",
    "\n",
    "<img align=\"middle\" src=\"image/traditional manner.png\"/>\n",
    "\n",
    "You express `rules` in a programming language. These act on `data` and your program provides `answers`. In the case of the activity detection, the rules (the code you wrote to define types of activities) acted upon the data (the person's movement speed) in order to find an answer -- the return value from the function for determining the activity status of the user (whether they were walking, running, biking, etc.).\n",
    "\n",
    "The process for detecting this activity status via Machine Learning is very similar -- only the axes are different:\n",
    "\n",
    "<img align=\"middle\" src=\"image/Tm.png\"/>\n",
    "\n",
    "\n",
    "Instead of trying to define the rules and express them in a programming language, you provide the answers (typically called `labels`) along with the data, and the machine will `infer` the rules that determine the relationship between the answers and the data. For example, our activity detection scenario might look like this in a machine learning context:\n",
    "\n",
    "<img align=\"middle\" src=\"image/Data.png\"/>\n",
    "\n",
    "We gather lots of data, and label it to effectively say \"This is what walking looks like\", \"This is what running looks like\" etc. Then, the computer can infer the rules that determine, from the data, what the distinct patterns that denote a particular activity are.\n",
    "\n",
    "Beyond being an alternative method to programming this scenario, this also gives you the ability to open up new scenarios, such as the golfing one that may not have been possible under the rules-based traditional programming approach.\n",
    "\n",
    "In traditional programming your code compiles into a binary that is typically called a program. In machine learning, the item you create from the data and labels is called a **model**.\n",
    "\n",
    "So if we go back to this diagram:\n",
    "<img align=\"middle\" src=\"image/model.png\"/>\n",
    "Consider the result of this to be a model, which at runtime is used like this:\n",
    "<img align=\"middle\" src=\"image/modle1.png\"/>\n",
    "\n",
    "You will pass the model some data, and the model will use the rules it inferred from the training to come up with a prediction -- i.e. \"That data looks like walking\", \"That data looks like biking\" etc.\n",
    "\n",
    "In the next section you'll start coding, building a very simple \"Hello World\" model which will have most of the building blocks that can be used in any Machine Learning Scenario!"
   ]
  },
  {
   "cell_type": "markdown",
   "metadata": {},
   "source": [
    "## 3. Before you start...\n",
    "\n",
    "In the next section you'll create a very simple machine learned model that determines patterns in a set of data using machine learning techniques and a neural network.\n",
    "\n",
    "If you've never created a Machine Learning model using TensorFlow, I'd strongly recommend you use Google Colaboratory, a browser-based environment that contains all the required dependencies. You can find the code for the rest of this lab running in a Colab.\n",
    "\n",
    "Otherwise, the main language you will use for training models is Python, so you will need to have that installed. In addition to that you'll also need TensorFlow. Details on installing it are [here](https://www.tensorflow.org/install). You'll also need the [numpy](https://numpy.org/) library."
   ]
  },
  {
   "cell_type": "markdown",
   "metadata": {},
   "source": [
    "## 4. Create your first machine-learned model\n",
    "\n",
    "\n",
    "Consider the following sets of numbers. Can you see the relationship between them?\n",
    "\n",
    "|X:| -1 |  0| 1|  2 |3| 4|\n",
    "|--|--|--|--|--|--|--|\n",
    "|Y:|-2 |1 | 4|7|10|13|\n",
    "\n",
    "\n",
    "\n",
    "Like every first app you should start with something super simple that shows the overall scaffolding for how your code works. \n",
    "\n",
    "In the case of creating neural networks, the sample I like to use is one where it learns the relationship between two numbers. So, for example, if you were writing code for a function like this, you already know the 'rules' -- \n",
    "\n",
    "\n",
    "```\n",
    "float my_function(float x){\n",
    "    float y = (3 * x) + 1;\n",
    "    return y;\n",
    "}\n",
    "```\n",
    "\n",
    "So how would you train a neural network to do the equivalent task? Using data! By feeding it with a set of Xs, and a set of Ys, it should be able to figure out the relationship between them. \n",
    "\n",
    "This is obviously a very different paradigm than what you might be used to, so let's step through it piece by piece.\n",
    "\n",
    "\n",
    "## Imports\n",
    "\n",
    "Let's start with our imports. Here we are importing TensorFlow and calling it tf for ease of use.\n",
    "\n",
    "We then import a library called numpy, which helps us to represent our data as lists easily and quickly.\n",
    "\n",
    "The framework for defining a neural network as a set of Sequential layers is called keras, so we import that too.\n"
   ]
  },
  {
   "cell_type": "code",
   "execution_count": 1,
   "metadata": {
    "collapsed": true,
    "jupyter": {
     "outputs_hidden": true
    }
   },
   "outputs": [
    {
     "name": "stdout",
     "output_type": "stream",
     "text": [
      "Requirement already satisfied: tensorflow==2.0 in c:\\users\\reddy\\appdata\\local\\programs\\python\\python36\\lib\\site-packages (2.0.0)\n",
      "Requirement already satisfied: protobuf>=3.6.1 in c:\\users\\reddy\\appdata\\local\\programs\\python\\python36\\lib\\site-packages (from tensorflow==2.0) (3.9.1)\n",
      "Requirement already satisfied: six>=1.10.0 in c:\\users\\reddy\\appdata\\local\\programs\\python\\python36\\lib\\site-packages (from tensorflow==2.0) (1.12.0)\n",
      "Requirement already satisfied: wrapt>=1.11.1 in c:\\users\\reddy\\appdata\\local\\programs\\python\\python36\\lib\\site-packages (from tensorflow==2.0) (1.11.2)\n",
      "Requirement already satisfied: tensorboard<2.1.0,>=2.0.0 in c:\\users\\reddy\\appdata\\local\\programs\\python\\python36\\lib\\site-packages (from tensorflow==2.0) (2.0.2)\n",
      "Requirement already satisfied: gast==0.2.2 in c:\\users\\reddy\\appdata\\local\\programs\\python\\python36\\lib\\site-packages (from tensorflow==2.0) (0.2.2)\n",
      "Requirement already satisfied: grpcio>=1.8.6 in c:\\users\\reddy\\appdata\\local\\programs\\python\\python36\\lib\\site-packages (from tensorflow==2.0) (1.24.3)\n",
      "Requirement already satisfied: termcolor>=1.1.0 in c:\\users\\reddy\\appdata\\local\\programs\\python\\python36\\lib\\site-packages (from tensorflow==2.0) (1.1.0)\n",
      "Requirement already satisfied: google-pasta>=0.1.6 in c:\\users\\reddy\\appdata\\local\\programs\\python\\python36\\lib\\site-packages (from tensorflow==2.0) (0.1.7)\n",
      "Requirement already satisfied: keras-preprocessing>=1.0.5 in c:\\users\\reddy\\appdata\\local\\programs\\python\\python36\\lib\\site-packages (from tensorflow==2.0) (1.1.0)\n",
      "Requirement already satisfied: astor>=0.6.0 in c:\\users\\reddy\\appdata\\local\\programs\\python\\python36\\lib\\site-packages (from tensorflow==2.0) (0.8.0)\n",
      "Requirement already satisfied: numpy<2.0,>=1.16.0 in c:\\users\\reddy\\appdata\\local\\programs\\python\\python36\\lib\\site-packages (from tensorflow==2.0) (1.18.0)\n",
      "Requirement already satisfied: opt-einsum>=2.3.2 in c:\\users\\reddy\\appdata\\local\\programs\\python\\python36\\lib\\site-packages (from tensorflow==2.0) (3.1.0)\n",
      "Requirement already satisfied: keras-applications>=1.0.8 in c:\\users\\reddy\\appdata\\local\\programs\\python\\python36\\lib\\site-packages (from tensorflow==2.0) (1.0.8)\n",
      "Requirement already satisfied: wheel>=0.26 in c:\\users\\reddy\\appdata\\local\\programs\\python\\python36\\lib\\site-packages (from tensorflow==2.0) (0.33.6)\n",
      "Requirement already satisfied: tensorflow-estimator<2.1.0,>=2.0.0 in c:\\users\\reddy\\appdata\\local\\programs\\python\\python36\\lib\\site-packages (from tensorflow==2.0) (2.0.1)\n",
      "Requirement already satisfied: absl-py>=0.7.0 in c:\\users\\reddy\\appdata\\local\\programs\\python\\python36\\lib\\site-packages (from tensorflow==2.0) (0.8.0)\n",
      "Requirement already satisfied: setuptools in c:\\users\\reddy\\appdata\\local\\programs\\python\\python36\\lib\\site-packages (from protobuf>=3.6.1->tensorflow==2.0) (41.2.0)\n",
      "Requirement already satisfied: markdown>=2.6.8 in c:\\users\\reddy\\appdata\\local\\programs\\python\\python36\\lib\\site-packages (from tensorboard<2.1.0,>=2.0.0->tensorflow==2.0) (3.1.1)\n",
      "Requirement already satisfied: google-auth-oauthlib<0.5,>=0.4.1 in c:\\users\\reddy\\appdata\\local\\programs\\python\\python36\\lib\\site-packages (from tensorboard<2.1.0,>=2.0.0->tensorflow==2.0) (0.4.1)\n",
      "Requirement already satisfied: requests<3,>=2.21.0 in c:\\users\\reddy\\appdata\\local\\programs\\python\\python36\\lib\\site-packages (from tensorboard<2.1.0,>=2.0.0->tensorflow==2.0) (2.22.0)\n",
      "Requirement already satisfied: google-auth<2,>=1.6.3 in c:\\users\\reddy\\appdata\\local\\programs\\python\\python36\\lib\\site-packages (from tensorboard<2.1.0,>=2.0.0->tensorflow==2.0) (1.7.1)\n",
      "Requirement already satisfied: werkzeug>=0.11.15 in c:\\users\\reddy\\appdata\\local\\programs\\python\\python36\\lib\\site-packages (from tensorboard<2.1.0,>=2.0.0->tensorflow==2.0) (0.16.0)\n",
      "Requirement already satisfied: h5py in c:\\users\\reddy\\appdata\\local\\programs\\python\\python36\\lib\\site-packages (from keras-applications>=1.0.8->tensorflow==2.0) (2.10.0)\n",
      "Requirement already satisfied: requests-oauthlib>=0.7.0 in c:\\users\\reddy\\appdata\\local\\programs\\python\\python36\\lib\\site-packages (from google-auth-oauthlib<0.5,>=0.4.1->tensorboard<2.1.0,>=2.0.0->tensorflow==2.0) (1.3.0)\n",
      "Requirement already satisfied: urllib3!=1.25.0,!=1.25.1,<1.26,>=1.21.1 in c:\\users\\reddy\\appdata\\local\\programs\\python\\python36\\lib\\site-packages (from requests<3,>=2.21.0->tensorboard<2.1.0,>=2.0.0->tensorflow==2.0) (1.25.5)\n",
      "Requirement already satisfied: certifi>=2017.4.17 in c:\\users\\reddy\\appdata\\local\\programs\\python\\python36\\lib\\site-packages (from requests<3,>=2.21.0->tensorboard<2.1.0,>=2.0.0->tensorflow==2.0) (2019.9.11)\n",
      "Requirement already satisfied: chardet<3.1.0,>=3.0.2 in c:\\users\\reddy\\appdata\\local\\programs\\python\\python36\\lib\\site-packages (from requests<3,>=2.21.0->tensorboard<2.1.0,>=2.0.0->tensorflow==2.0) (3.0.4)\n",
      "Requirement already satisfied: idna<2.9,>=2.5 in c:\\users\\reddy\\appdata\\local\\programs\\python\\python36\\lib\\site-packages (from requests<3,>=2.21.0->tensorboard<2.1.0,>=2.0.0->tensorflow==2.0) (2.8)\n",
      "Requirement already satisfied: cachetools<3.2,>=2.0.0 in c:\\users\\reddy\\appdata\\local\\programs\\python\\python36\\lib\\site-packages (from google-auth<2,>=1.6.3->tensorboard<2.1.0,>=2.0.0->tensorflow==2.0) (3.1.1)\n",
      "Requirement already satisfied: rsa<4.1,>=3.1.4 in c:\\users\\reddy\\appdata\\local\\programs\\python\\python36\\lib\\site-packages (from google-auth<2,>=1.6.3->tensorboard<2.1.0,>=2.0.0->tensorflow==2.0) (4.0)\n",
      "Requirement already satisfied: pyasn1-modules>=0.2.1 in c:\\users\\reddy\\appdata\\local\\programs\\python\\python36\\lib\\site-packages (from google-auth<2,>=1.6.3->tensorboard<2.1.0,>=2.0.0->tensorflow==2.0) (0.2.7)\n",
      "Requirement already satisfied: oauthlib>=3.0.0 in c:\\users\\reddy\\appdata\\local\\programs\\python\\python36\\lib\\site-packages (from requests-oauthlib>=0.7.0->google-auth-oauthlib<0.5,>=0.4.1->tensorboard<2.1.0,>=2.0.0->tensorflow==2.0) (3.1.0)\n",
      "Requirement already satisfied: pyasn1>=0.1.3 in c:\\users\\reddy\\appdata\\local\\programs\\python\\python36\\lib\\site-packages (from rsa<4.1,>=3.1.4->google-auth<2,>=1.6.3->tensorboard<2.1.0,>=2.0.0->tensorflow==2.0) (0.4.7)\n"
     ]
    }
   ],
   "source": [
    "!pip install tensorflow==2.0"
   ]
  },
  {
   "cell_type": "code",
   "execution_count": 2,
   "metadata": {},
   "outputs": [],
   "source": [
    "import tensorflow as tf\n",
    "import numpy as np\n",
    "from tensorflow import keras"
   ]
  },
  {
   "cell_type": "code",
   "execution_count": 3,
   "metadata": {},
   "outputs": [
    {
     "data": {
      "text/plain": [
       "'2.2.4-tf'"
      ]
     },
     "execution_count": 3,
     "metadata": {},
     "output_type": "execute_result"
    }
   ],
   "source": [
    "keras.__version__"
   ]
  },
  {
   "cell_type": "code",
   "execution_count": 4,
   "metadata": {},
   "outputs": [
    {
     "data": {
      "text/plain": [
       "'2.0.0'"
      ]
     },
     "execution_count": 4,
     "metadata": {},
     "output_type": "execute_result"
    }
   ],
   "source": [
    "tf.__version__"
   ]
  },
  {
   "cell_type": "markdown",
   "metadata": {},
   "source": [
    "## Define and Compile the Neural Network\n",
    "\n",
    "Next we will create the simplest possible neural network. It has 1 layer, and that layer has 1 neuron, and the input shape to it is just 1 value."
   ]
  },
  {
   "cell_type": "code",
   "execution_count": 5,
   "metadata": {},
   "outputs": [
    {
     "data": {
      "text/plain": [
       "<tensorflow.python.keras.engine.sequential.Sequential at 0x19db8806be0>"
      ]
     },
     "execution_count": 5,
     "metadata": {},
     "output_type": "execute_result"
    }
   ],
   "source": [
    "model = tf.keras.Sequential([keras.layers.Dense(units=1, input_shape=[1])])\n",
    "model"
   ]
  },
  {
   "cell_type": "markdown",
   "metadata": {},
   "source": [
    "Now we compile our Neural Network. When we do so, we have to specify 2 functions, a loss and an optimizer.\n",
    "\n",
    "If you've seen lots of math for machine learning, here's where it's usually used, but in this case it's nicely encapsulated in functions for you. But what happens here -- let's explain...\n",
    "\n",
    "### y = mx+c  or    Y = $b_1X+b$\n",
    "We know that in our function, the relationship between the numbers is y=3x+1. \n",
    "\n",
    "When the computer is trying to 'learn' that, it makes a guess...maybe y=10x+10. The `LOSS` function measures the guessed answers against the known correct answers and measures how well or how badly it did.\n",
    "\n",
    "It then uses the `OPTIMIZER` function to make another guess. Based on how the loss function went, it will try to minimize the loss. At that point maybe it will come up with somehting like y=5x+5, which, while still pretty bad, is closer to the correct result (i.e. the loss is lower)\n",
    "\n",
    "It will repeat this for the number of `EPOCHS` which you will see shortly. But first, here's how we tell it to use `MEAN SQUARED ERROR` for the loss and `STOCHASTIC GRADIENT DESCENT` for the optimizer. You don't need to understand the math for these yet, but you can see that they work! :)\n",
    "\n",
    "Over time you will learn the different and appropriate loss and optimizer functions for different scenarios. \n"
   ]
  },
  {
   "cell_type": "code",
   "execution_count": 10,
   "metadata": {},
   "outputs": [],
   "source": [
    "model.compile(optimizer='sgd', loss='mean_squared_error',metrics=['accuracy'])"
   ]
  },
  {
   "cell_type": "markdown",
   "metadata": {},
   "source": [
    "## Providing the Data\n",
    "\n",
    "Next up we'll feed in some data. In this case we are taking 6 xs and 6ys. You can see that the relationship between these is that y=2x-1, so where x = -1, y=-3 etc. etc. \n",
    "\n",
    "A python library called 'Numpy' provides lots of array type data structures that are a defacto standard way of doing it. We declare that we want to use these by specifying the values asn an np.array[]"
   ]
  },
  {
   "cell_type": "code",
   "execution_count": 11,
   "metadata": {},
   "outputs": [],
   "source": [
    "xs = np.array([-1.0, 0.0, 1.0, 2.0, 3.0, 4.0], dtype=float)\n",
    "ys = np.array([-2.0, 1.0, 4.0, 7.0, 10.0, 13.0], dtype=float)"
   ]
  },
  {
   "cell_type": "markdown",
   "metadata": {},
   "source": [
    "# Training the Neural Network\n",
    "\n",
    "The process of training the neural network, where it 'learns' the relationship between the Xs and Ys is in the **model.fit**  call. This is where it will go through the loop we spoke about above, making a guess, measuring how good or bad it is (aka the loss), using the opimizer to make another guess etc. It will do it for the number of epochs you specify. When you run this code, you'll see the loss on the right hand side."
   ]
  },
  {
   "cell_type": "code",
   "execution_count": 15,
   "metadata": {},
   "outputs": [
    {
     "name": "stdout",
     "output_type": "stream",
     "text": [
      "Train on 6 samples\n",
      "Epoch 1/70\n",
      "6/6 [==============================] - 0s 1ms/sample - loss: 1.3046e-05 - accuracy: 0.1667\n",
      "Epoch 2/70\n",
      "6/6 [==============================] - 0s 498us/sample - loss: 1.2777e-05 - accuracy: 0.1667\n",
      "Epoch 3/70\n",
      "6/6 [==============================] - 0s 665us/sample - loss: 1.2515e-05 - accuracy: 0.1667\n",
      "Epoch 4/70\n",
      "6/6 [==============================] - 0s 333us/sample - loss: 1.2258e-05 - accuracy: 0.1667\n",
      "Epoch 5/70\n",
      "6/6 [==============================] - 0s 665us/sample - loss: 1.2006e-05 - accuracy: 0.1667\n",
      "Epoch 6/70\n",
      "6/6 [==============================] - 0s 332us/sample - loss: 1.1760e-05 - accuracy: 0.1667\n",
      "Epoch 7/70\n",
      "6/6 [==============================] - 0s 830us/sample - loss: 1.1518e-05 - accuracy: 0.1667\n",
      "Epoch 8/70\n",
      "6/6 [==============================] - 0s 835us/sample - loss: 1.1282e-05 - accuracy: 0.1667\n",
      "Epoch 9/70\n",
      "6/6 [==============================] - 0s 333us/sample - loss: 1.1050e-05 - accuracy: 0.1667\n",
      "Epoch 10/70\n",
      "6/6 [==============================] - 0s 333us/sample - loss: 1.0823e-05 - accuracy: 0.1667\n",
      "Epoch 11/70\n",
      "6/6 [==============================] - 0s 326us/sample - loss: 1.0601e-05 - accuracy: 0.1667\n",
      "Epoch 12/70\n",
      "6/6 [==============================] - 0s 166us/sample - loss: 1.0384e-05 - accuracy: 0.1667\n",
      "Epoch 13/70\n",
      "6/6 [==============================] - 0s 332us/sample - loss: 1.0170e-05 - accuracy: 0.1667\n",
      "Epoch 14/70\n",
      "6/6 [==============================] - 0s 333us/sample - loss: 9.9605e-06 - accuracy: 0.1667\n",
      "Epoch 15/70\n",
      "6/6 [==============================] - 0s 166us/sample - loss: 9.7562e-06 - accuracy: 0.1667\n",
      "Epoch 16/70\n",
      "6/6 [==============================] - 0s 499us/sample - loss: 9.5559e-06 - accuracy: 0.1667\n",
      "Epoch 17/70\n",
      "6/6 [==============================] - 0s 664us/sample - loss: 9.3594e-06 - accuracy: 0.1667\n",
      "Epoch 18/70\n",
      "6/6 [==============================] - 0s 665us/sample - loss: 9.1667e-06 - accuracy: 0.1667\n",
      "Epoch 19/70\n",
      "6/6 [==============================] - 0s 499us/sample - loss: 8.9786e-06 - accuracy: 0.1667\n",
      "Epoch 20/70\n",
      "6/6 [==============================] - 0s 327us/sample - loss: 8.7944e-06 - accuracy: 0.1667\n",
      "Epoch 21/70\n",
      "6/6 [==============================] - 0s 664us/sample - loss: 8.6135e-06 - accuracy: 0.1667\n",
      "Epoch 22/70\n",
      "6/6 [==============================] - 0s 499us/sample - loss: 8.4369e-06 - accuracy: 0.1667\n",
      "Epoch 23/70\n",
      "6/6 [==============================] - 0s 498us/sample - loss: 8.2636e-06 - accuracy: 0.1667\n",
      "Epoch 24/70\n",
      "6/6 [==============================] - 0s 332us/sample - loss: 8.0936e-06 - accuracy: 0.1667\n",
      "Epoch 25/70\n",
      "6/6 [==============================] - 0s 665us/sample - loss: 7.9276e-06 - accuracy: 0.1667\n",
      "Epoch 26/70\n",
      "6/6 [==============================] - 0s 492us/sample - loss: 7.7648e-06 - accuracy: 0.1667\n",
      "Epoch 27/70\n",
      "6/6 [==============================] - 0s 665us/sample - loss: 7.6051e-06 - accuracy: 0.1667\n",
      "Epoch 28/70\n",
      "6/6 [==============================] - 0s 332us/sample - loss: 7.4487e-06 - accuracy: 0.1667\n",
      "Epoch 29/70\n",
      "6/6 [==============================] - 0s 666us/sample - loss: 7.2960e-06 - accuracy: 0.1667\n",
      "Epoch 30/70\n",
      "6/6 [==============================] - 0s 499us/sample - loss: 7.1462e-06 - accuracy: 0.1667\n",
      "Epoch 31/70\n",
      "6/6 [==============================] - 0s 831us/sample - loss: 6.9992e-06 - accuracy: 0.1667\n",
      "Epoch 32/70\n",
      "6/6 [==============================] - 0s 332us/sample - loss: 6.8557e-06 - accuracy: 0.1667\n",
      "Epoch 33/70\n",
      "6/6 [==============================] - 0s 665us/sample - loss: 6.7152e-06 - accuracy: 0.1667\n",
      "Epoch 34/70\n",
      "6/6 [==============================] - 0s 499us/sample - loss: 6.5769e-06 - accuracy: 0.1667\n",
      "Epoch 35/70\n",
      "6/6 [==============================] - 0s 503us/sample - loss: 6.4422e-06 - accuracy: 0.1667\n",
      "Epoch 36/70\n",
      "6/6 [==============================] - 0s 333us/sample - loss: 6.3098e-06 - accuracy: 0.1667\n",
      "Epoch 37/70\n",
      "6/6 [==============================] - 0s 332us/sample - loss: 6.1803e-06 - accuracy: 0.1667\n",
      "Epoch 38/70\n",
      "6/6 [==============================] - 0s 665us/sample - loss: 6.0533e-06 - accuracy: 0.1667\n",
      "Epoch 39/70\n",
      "6/6 [==============================] - 0s 499us/sample - loss: 5.9292e-06 - accuracy: 0.1667\n",
      "Epoch 40/70\n",
      "6/6 [==============================] - 0s 332us/sample - loss: 5.8076e-06 - accuracy: 0.1667\n",
      "Epoch 41/70\n",
      "6/6 [==============================] - 0s 665us/sample - loss: 5.6876e-06 - accuracy: 0.1667\n",
      "Epoch 42/70\n",
      "6/6 [==============================] - 0s 664us/sample - loss: 5.5705e-06 - accuracy: 0.1667\n",
      "Epoch 43/70\n",
      "6/6 [==============================] - 0s 665us/sample - loss: 5.4561e-06 - accuracy: 0.1667\n",
      "Epoch 44/70\n",
      "6/6 [==============================] - 0s 500us/sample - loss: 5.3441e-06 - accuracy: 0.1667\n",
      "Epoch 45/70\n",
      "6/6 [==============================] - 0s 333us/sample - loss: 5.2343e-06 - accuracy: 0.1667\n",
      "Epoch 46/70\n",
      "6/6 [==============================] - 0s 665us/sample - loss: 5.1268e-06 - accuracy: 0.1667\n",
      "Epoch 47/70\n",
      "6/6 [==============================] - 0s 332us/sample - loss: 5.0213e-06 - accuracy: 0.1667\n",
      "Epoch 48/70\n",
      "6/6 [==============================] - 0s 500us/sample - loss: 4.9185e-06 - accuracy: 0.1667\n",
      "Epoch 49/70\n",
      "6/6 [==============================] - 0s 499us/sample - loss: 4.8173e-06 - accuracy: 0.1667\n",
      "Epoch 50/70\n",
      "6/6 [==============================] - 0s 664us/sample - loss: 4.7182e-06 - accuracy: 0.1667\n",
      "Epoch 51/70\n",
      "6/6 [==============================] - 0s 332us/sample - loss: 4.6214e-06 - accuracy: 0.1667\n",
      "Epoch 52/70\n",
      "6/6 [==============================] - 0s 333us/sample - loss: 4.5263e-06 - accuracy: 0.1667\n",
      "Epoch 53/70\n",
      "6/6 [==============================] - 0s 499us/sample - loss: 4.4334e-06 - accuracy: 0.1667\n",
      "Epoch 54/70\n",
      "6/6 [==============================] - 0s 831us/sample - loss: 4.3424e-06 - accuracy: 0.1667\n",
      "Epoch 55/70\n",
      "6/6 [==============================] - 0s 499us/sample - loss: 4.2530e-06 - accuracy: 0.1667\n",
      "Epoch 56/70\n",
      "6/6 [==============================] - 0s 832us/sample - loss: 4.1657e-06 - accuracy: 0.1667\n",
      "Epoch 57/70\n",
      "6/6 [==============================] - 0s 662us/sample - loss: 4.0799e-06 - accuracy: 0.1667\n",
      "Epoch 58/70\n",
      "6/6 [==============================] - 0s 333us/sample - loss: 3.9961e-06 - accuracy: 0.1667\n",
      "Epoch 59/70\n",
      "6/6 [==============================] - 0s 332us/sample - loss: 3.9143e-06 - accuracy: 0.1667\n",
      "Epoch 60/70\n",
      "6/6 [==============================] - 0s 665us/sample - loss: 3.8339e-06 - accuracy: 0.1667\n",
      "Epoch 61/70\n",
      "6/6 [==============================] - 0s 500us/sample - loss: 3.7547e-06 - accuracy: 0.1667\n",
      "Epoch 62/70\n",
      "6/6 [==============================] - 0s 499us/sample - loss: 3.6779e-06 - accuracy: 0.1667\n",
      "Epoch 63/70\n",
      "6/6 [==============================] - 0s 498us/sample - loss: 3.6024e-06 - accuracy: 0.1667\n",
      "Epoch 64/70\n",
      "6/6 [==============================] - 0s 831us/sample - loss: 3.5283e-06 - accuracy: 0.1667\n",
      "Epoch 65/70\n",
      "6/6 [==============================] - 0s 499us/sample - loss: 3.4561e-06 - accuracy: 0.1667\n",
      "Epoch 66/70\n",
      "6/6 [==============================] - 0s 333us/sample - loss: 3.3851e-06 - accuracy: 0.1667\n",
      "Epoch 67/70\n",
      "6/6 [==============================] - 0s 666us/sample - loss: 3.3157e-06 - accuracy: 0.1667\n",
      "Epoch 68/70\n",
      "6/6 [==============================] - 0s 333us/sample - loss: 3.2475e-06 - accuracy: 0.1667\n",
      "Epoch 69/70\n",
      "6/6 [==============================] - 0s 498us/sample - loss: 3.1805e-06 - accuracy: 0.1667\n",
      "Epoch 70/70\n",
      "6/6 [==============================] - 0s 166us/sample - loss: 3.1152e-06 - accuracy: 0.1667\n"
     ]
    },
    {
     "data": {
      "text/plain": [
       "<tensorflow.python.keras.callbacks.History at 0x19dbbc93160>"
      ]
     },
     "execution_count": 15,
     "metadata": {},
     "output_type": "execute_result"
    }
   ],
   "source": [
    "model.fit(xs, ys, epochs=70)"
   ]
  },
  {
   "cell_type": "markdown",
   "metadata": {},
   "source": [
    "Ok, now you have a model that has been trained to learn the relationshop between X and Y. You can use the **model.predict** method to have it figure out the Y for a previously unknown X. So, for example, if X = 10, what do you think Y will be? Take a guess before you run this code:"
   ]
  },
  {
   "cell_type": "code",
   "execution_count": 16,
   "metadata": {},
   "outputs": [
    {
     "name": "stdout",
     "output_type": "stream",
     "text": [
      "[[15.998583]]\n"
     ]
    }
   ],
   "source": [
    "print(model.predict([5]))"
   ]
  },
  {
   "cell_type": "code",
   "execution_count": 17,
   "metadata": {},
   "outputs": [
    {
     "name": "stdout",
     "output_type": "stream",
     "text": [
      "[[30.994852]]\n"
     ]
    }
   ],
   "source": [
    "print(model.predict([10.0]))"
   ]
  },
  {
   "cell_type": "code",
   "execution_count": null,
   "metadata": {},
   "outputs": [
    {
     "name": "stderr",
     "output_type": "stream",
     "text": [
      "Using TensorFlow backend.\n"
     ]
    },
    {
     "name": "stdout",
     "output_type": "stream",
     "text": [
      "Wait for 8 seconds...\n"
     ]
    }
   ],
   "source": [
    "%load_ext tensorboard\n",
    "from tensorboardcolab import * \n",
    "tbc = TensorBoardColab() # To create a tensorboardcolab object it will automatically creat a link\n",
    "writer = tbc.get_writer() # To create a FileWriter\n",
    "writer.add_graph(tf.get_default_graph()) # add the graph \n",
    "writer.flush()"
   ]
  },
  {
   "cell_type": "markdown",
   "metadata": {},
   "source": [
    "You might have thought 31, right? But it ended up being a little over. Why do you think that is? \n",
    "\n",
    "Remember that neural networks deal with probabilities, so given the data that we fed the NN with, it calculated that there is a very high probability that the relationship between X and Y is Y=3X+1, but with only 6 data points we can't know for sure. As a result, the result for 10 is very close to 31, but not necessarily 31. \n",
    "\n",
    "As you work with neural networks, you'll see this pattern recurring. You will almost always deal with probabilities, not certainties, and will do a little bit of coding to figure out what the result is based on the probabilities, particularly when it comes to classification.\n",
    "\n",
    "[Introduction to Computer Vision .ipynb]()"
   ]
  }
 ],
 "metadata": {
  "kernelspec": {
   "display_name": "Python 3",
   "language": "python",
   "name": "python3"
  },
  "language_info": {
   "codemirror_mode": {
    "name": "ipython",
    "version": 3
   },
   "file_extension": ".py",
   "mimetype": "text/x-python",
   "name": "python",
   "nbconvert_exporter": "python",
   "pygments_lexer": "ipython3",
   "version": "3.6.8"
  }
 },
 "nbformat": 4,
 "nbformat_minor": 4
}
